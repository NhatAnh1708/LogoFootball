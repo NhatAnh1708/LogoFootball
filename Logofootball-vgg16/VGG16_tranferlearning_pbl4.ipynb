{
  "nbformat": 4,
  "nbformat_minor": 0,
  "metadata": {
    "colab": {
      "provenance": []
    },
    "kernelspec": {
      "name": "python3",
      "display_name": "Python 3"
    },
    "language_info": {
      "name": "python"
    },
    "accelerator": "GPU",
    "gpuClass": "standard"
  },
  "cells": [
    {
      "cell_type": "code",
      "execution_count": null,
      "metadata": {
        "colab": {
          "base_uri": "https://localhost:8080/"
        },
        "id": "JRmbKC7Q0jK7",
        "outputId": "ecec5c9c-928d-4218-96af-b8a6d63cf6b1"
      },
      "outputs": [
        {
          "output_type": "stream",
          "name": "stdout",
          "text": [
            "Mounted at /content/drive\n"
          ]
        }
      ],
      "source": [
        "from google.colab import drive\n",
        "drive.mount('/content/drive')"
      ]
    },
    {
      "cell_type": "code",
      "source": [
        "from os import listdir\n",
        "import cv2\n",
        "import numpy as np\n",
        "import pickle\n",
        "from sklearn.preprocessing import OneHotEncoder\n",
        "from sklearn.model_selection import train_test_split\n",
        "from keras.applications.vgg16 import VGG16\n",
        "from keras.layers import Input, Flatten, Dense, Dropout\n",
        "from keras.models import Model\n",
        "from keras.callbacks import ModelCheckpoint\n",
        "import matplotlib.pyplot as plt\n",
        "import random\n",
        "from keras.preprocessing.image import ImageDataGenerator"
      ],
      "metadata": {
        "id": "IAXMzxECpFz8"
      },
      "execution_count": null,
      "outputs": []
    },
    {
      "cell_type": "code",
      "source": [
        "raw_folder = \"/content/drive/MyDrive/data/\"\n",
        "def save_data(raw_folder=raw_folder):\n",
        "\n",
        "    dest_size = (128, 128)\n",
        "    print(\"Bắt đầu xử lý ảnh...\")\n",
        "\n",
        "    pixels = []\n",
        "    labels = []\n",
        "\n",
        "    # Lặp qua các folder con trong thư mục raw\n",
        "    for folder in listdir(raw_folder):\n",
        "        if folder!='.DS_Store':\n",
        "            print(\"Folder=\",folder)\n",
        "            # Lặp qua các file trong từng thư mục chứa các em\n",
        "            for file in listdir(raw_folder  + folder):\n",
        "                if file!='.DS_Store':\n",
        "                    print(\"File=\", file)\n",
        "                    pixels.append( cv2.resize(cv2.imread(raw_folder  + folder +\"/\" + file),dsize=(128,128)))\n",
        "                    labels.append( folder)\n",
        "\n",
        "    pixels = np.array(pixels)\n",
        "    labels = np.array(labels).reshape(-1,1)\n",
        "\n",
        "    from sklearn.preprocessing import LabelBinarizer\n",
        "    encoder = LabelBinarizer()\n",
        "    labels = encoder.fit_transform(labels)\n",
        "    print(labels)\n",
        "\n",
        "    file = open('pix.data', 'wb')\n",
        "    # dump information to that file\n",
        "    pickle.dump((pixels,labels), file)\n",
        "    # close the file\n",
        "    file.close()\n",
        "\n",
        "    return\n",
        "\n",
        "def load_data():\n",
        "    file = open('pix.data', 'rb')\n",
        "\n",
        "    # dump information to that file\n",
        "    (pixels, labels) = pickle.load(file)\n",
        "\n",
        "    # close the file\n",
        "    file.close()\n",
        "\n",
        "    print(pixels.shape)\n",
        "    print(labels.shape)\n",
        "\n",
        "\n",
        "    return pixels, labels\n",
        "\n",
        "save_data()\n",
        "X,y = load_data()\n",
        "#random.shuffle(X)\n",
        "X_train, X_test, y_train, y_test = train_test_split( X, y, test_size=0.2, random_state=100)\n",
        "\n",
        "print(X_train.shape)\n",
        "print(y_train.shape)"
      ],
      "metadata": {
        "id": "IqjToWIZpCvX",
        "colab": {
          "base_uri": "https://localhost:8080/"
        },
        "outputId": "2a645775-1692-42a0-bde3-c6488d18f7e9"
      },
      "execution_count": null,
      "outputs": [
        {
          "output_type": "stream",
          "name": "stdout",
          "text": [
            "[[1 0 0]\n",
            " [1 0 0]\n",
            " [1 0 0]\n",
            " ...\n",
            " [0 1 0]\n",
            " [0 1 0]\n",
            " [0 1 0]]\n",
            "(3000, 128, 128, 3)\n",
            "(3000, 3)\n",
            "(2400, 128, 128, 3)\n",
            "(2400, 3)\n"
          ]
        }
      ]
    },
    {
      "cell_type": "code",
      "source": [
        "\n",
        "\n",
        "def get_model():\n",
        "    model_vgg16_conv = VGG16(weights='imagenet', include_top=False)\n",
        "\n",
        "    # Dong bang cac layer\n",
        "    for layer in model_vgg16_conv.layers:\n",
        "        layer.trainable = False\n",
        "\n",
        "    # Tao model\n",
        "    input = Input(shape=(128, 128, 3), name='image_input')\n",
        "    output_vgg16_conv = model_vgg16_conv(input)\n",
        "\n",
        "    # Them cac layer FC va Dropout\n",
        "    x = Flatten(name='flatten')(output_vgg16_conv)\n",
        "    x = Dense(1024, activation='relu', name='fc1')(x)\n",
        "    x = Dense(1024, activation='relu', name='fc2')(x)\n",
        "    x = Dense(3, activation='softmax', name='predictions')(x)\n",
        "\n",
        "    # Compile\n",
        "    my_model = Model(inputs=input, outputs=x)\n",
        "    my_model.compile(loss='categorical_crossentropy', optimizer='sgd', metrics=['accuracy'])\n",
        "    my_model.optimizer.learning_rate = 0.001\n",
        "\n",
        "    return my_model\n",
        "\n",
        "vggmodel = get_model()\n",
        "\n",
        "\n",
        "\n",
        "\n",
        "\n",
        "\n",
        "\n",
        "\n"
      ],
      "metadata": {
        "colab": {
          "base_uri": "https://localhost:8080/"
        },
        "id": "ZRLwkhIEUrD5",
        "outputId": "dd53399c-dc46-4d22-d416-093b22fe8122"
      },
      "execution_count": null,
      "outputs": [
        {
          "output_type": "stream",
          "name": "stdout",
          "text": [
            "Downloading data from https://storage.googleapis.com/tensorflow/keras-applications/vgg16/vgg16_weights_tf_dim_ordering_tf_kernels_notop.h5\n",
            "58889256/58889256 [==============================] - 2s 0us/step\n"
          ]
        }
      ]
    },
    {
      "cell_type": "code",
      "source": [
        "vggmodel.summary()"
      ],
      "metadata": {
        "colab": {
          "base_uri": "https://localhost:8080/"
        },
        "id": "OH85tKEbu23E",
        "outputId": "b476e190-2e5c-4702-ba03-afca847e08f8"
      },
      "execution_count": null,
      "outputs": [
        {
          "output_type": "stream",
          "name": "stdout",
          "text": [
            "Model: \"model\"\n",
            "_________________________________________________________________\n",
            " Layer (type)                Output Shape              Param #   \n",
            "=================================================================\n",
            " image_input (InputLayer)    [(None, 128, 128, 3)]     0         \n",
            "                                                                 \n",
            " vgg16 (Functional)          (None, None, None, 512)   14714688  \n",
            "                                                                 \n",
            " flatten (Flatten)           (None, 8192)              0         \n",
            "                                                                 \n",
            " fc1 (Dense)                 (None, 1024)              8389632   \n",
            "                                                                 \n",
            " fc2 (Dense)                 (None, 1024)              1049600   \n",
            "                                                                 \n",
            " predictions (Dense)         (None, 3)                 3075      \n",
            "                                                                 \n",
            "=================================================================\n",
            "Total params: 24,156,995\n",
            "Trainable params: 9,442,307\n",
            "Non-trainable params: 14,714,688\n",
            "_________________________________________________________________\n"
          ]
        }
      ]
    },
    {
      "cell_type": "code",
      "source": [
        "filepath=\"weights-{epoch:02d}-{val_accuracy:.2f}.hdf5\"\n",
        "checkpoint = ModelCheckpoint(filepath, monitor='val_accuracy', verbose=1, save_best_only=True, mode='max')\n",
        "callbacks_list = [checkpoint]\n",
        "\n",
        "# construct the training image generator for data augmentation\n",
        "aug = ImageDataGenerator(rotation_range=20, zoom_range=0.1,\n",
        "    rescale=1./255,\n",
        "\twidth_shift_range=0.1,\n",
        "    height_shift_range=0.1,\n",
        "\thorizontal_flip=True,\n",
        "    brightness_range=[0.2,1.5], fill_mode=\"nearest\")\n",
        "\n",
        "aug_val = ImageDataGenerator(rescale=1./255)\n",
        "\n",
        "vgghist=vggmodel.fit_generator(aug.flow(X_train, y_train,batch_size=64),\n",
        "                               epochs=50, #steps_per_epoch=len(X_train)//64,\n",
        "                               validation_data=aug.flow(X_test,y_test,batch_size=64\n",
        "                               ),\n",
        "                               callbacks=callbacks_list)\n",
        "\n",
        "vggmodel.save(\"vggmodel.h5\")"
      ],
      "metadata": {
        "colab": {
          "base_uri": "https://localhost:8080/"
        },
        "id": "zha6JolJu17d",
        "outputId": "8d2d24f9-8bdc-4d21-c8c3-ee4d02c255c0"
      },
      "execution_count": null,
      "outputs": [
        {
          "output_type": "stream",
          "name": "stderr",
          "text": [
            "/usr/local/lib/python3.7/dist-packages/ipykernel_launcher.py:19: UserWarning: `Model.fit_generator` is deprecated and will be removed in a future version. Please use `Model.fit`, which supports generators.\n"
          ]
        },
        {
          "output_type": "stream",
          "name": "stdout",
          "text": [
            "Epoch 1/50\n",
            "38/38 [==============================] - ETA: 0s - loss: 0.8745 - accuracy: 0.7454\n",
            "Epoch 1: val_accuracy improved from -inf to 0.92167, saving model to weights-01-0.92.hdf5\n",
            "38/38 [==============================] - 26s 453ms/step - loss: 0.8745 - accuracy: 0.7454 - val_loss: 0.6673 - val_accuracy: 0.9217\n",
            "Epoch 2/50\n",
            "38/38 [==============================] - ETA: 0s - loss: 0.5557 - accuracy: 0.9458\n",
            "Epoch 2: val_accuracy improved from 0.92167 to 0.96167, saving model to weights-02-0.96.hdf5\n",
            "38/38 [==============================] - 14s 363ms/step - loss: 0.5557 - accuracy: 0.9458 - val_loss: 0.4697 - val_accuracy: 0.9617\n",
            "Epoch 3/50\n",
            "38/38 [==============================] - ETA: 0s - loss: 0.4080 - accuracy: 0.9688\n",
            "Epoch 3: val_accuracy improved from 0.96167 to 0.97333, saving model to weights-03-0.97.hdf5\n",
            "38/38 [==============================] - 14s 360ms/step - loss: 0.4080 - accuracy: 0.9688 - val_loss: 0.3451 - val_accuracy: 0.9733\n",
            "Epoch 4/50\n",
            "38/38 [==============================] - ETA: 0s - loss: 0.3165 - accuracy: 0.9754\n",
            "Epoch 4: val_accuracy improved from 0.97333 to 0.98167, saving model to weights-04-0.98.hdf5\n",
            "38/38 [==============================] - 14s 364ms/step - loss: 0.3165 - accuracy: 0.9754 - val_loss: 0.2846 - val_accuracy: 0.9817\n",
            "Epoch 5/50\n",
            "38/38 [==============================] - ETA: 0s - loss: 0.2590 - accuracy: 0.9779\n",
            "Epoch 5: val_accuracy did not improve from 0.98167\n",
            "38/38 [==============================] - 15s 391ms/step - loss: 0.2590 - accuracy: 0.9779 - val_loss: 0.2423 - val_accuracy: 0.9750\n",
            "Epoch 6/50\n",
            "38/38 [==============================] - ETA: 0s - loss: 0.2203 - accuracy: 0.9829\n",
            "Epoch 6: val_accuracy improved from 0.98167 to 0.98333, saving model to weights-06-0.98.hdf5\n",
            "38/38 [==============================] - 14s 357ms/step - loss: 0.2203 - accuracy: 0.9829 - val_loss: 0.2068 - val_accuracy: 0.9833\n",
            "Epoch 7/50\n",
            "38/38 [==============================] - ETA: 0s - loss: 0.1900 - accuracy: 0.9812\n",
            "Epoch 7: val_accuracy did not improve from 0.98333\n",
            "38/38 [==============================] - 14s 356ms/step - loss: 0.1900 - accuracy: 0.9812 - val_loss: 0.1853 - val_accuracy: 0.9817\n",
            "Epoch 8/50\n",
            "38/38 [==============================] - ETA: 0s - loss: 0.1653 - accuracy: 0.9871\n",
            "Epoch 8: val_accuracy improved from 0.98333 to 0.99167, saving model to weights-08-0.99.hdf5\n",
            "38/38 [==============================] - 14s 358ms/step - loss: 0.1653 - accuracy: 0.9871 - val_loss: 0.1532 - val_accuracy: 0.9917\n",
            "Epoch 9/50\n",
            "38/38 [==============================] - ETA: 0s - loss: 0.1468 - accuracy: 0.9879\n",
            "Epoch 9: val_accuracy did not improve from 0.99167\n",
            "38/38 [==============================] - 17s 437ms/step - loss: 0.1468 - accuracy: 0.9879 - val_loss: 0.1490 - val_accuracy: 0.9783\n",
            "Epoch 10/50\n",
            "38/38 [==============================] - ETA: 0s - loss: 0.1337 - accuracy: 0.9908\n",
            "Epoch 10: val_accuracy did not improve from 0.99167\n",
            "38/38 [==============================] - 14s 356ms/step - loss: 0.1337 - accuracy: 0.9908 - val_loss: 0.1277 - val_accuracy: 0.9917\n",
            "Epoch 11/50\n",
            "38/38 [==============================] - ETA: 0s - loss: 0.1181 - accuracy: 0.9946\n",
            "Epoch 11: val_accuracy did not improve from 0.99167\n",
            "38/38 [==============================] - 13s 354ms/step - loss: 0.1181 - accuracy: 0.9946 - val_loss: 0.1172 - val_accuracy: 0.9917\n",
            "Epoch 12/50\n",
            "38/38 [==============================] - ETA: 0s - loss: 0.1089 - accuracy: 0.9937\n",
            "Epoch 12: val_accuracy improved from 0.99167 to 0.99500, saving model to weights-12-1.00.hdf5\n",
            "38/38 [==============================] - 14s 364ms/step - loss: 0.1089 - accuracy: 0.9937 - val_loss: 0.1023 - val_accuracy: 0.9950\n",
            "Epoch 13/50\n",
            "38/38 [==============================] - ETA: 0s - loss: 0.1069 - accuracy: 0.9925\n",
            "Epoch 13: val_accuracy did not improve from 0.99500\n",
            "38/38 [==============================] - 15s 389ms/step - loss: 0.1069 - accuracy: 0.9925 - val_loss: 0.1077 - val_accuracy: 0.9933\n",
            "Epoch 14/50\n",
            "38/38 [==============================] - ETA: 0s - loss: 0.0962 - accuracy: 0.9933\n",
            "Epoch 14: val_accuracy did not improve from 0.99500\n",
            "38/38 [==============================] - 15s 389ms/step - loss: 0.0962 - accuracy: 0.9933 - val_loss: 0.0986 - val_accuracy: 0.9933\n",
            "Epoch 15/50\n",
            "38/38 [==============================] - ETA: 0s - loss: 0.0892 - accuracy: 0.9950\n",
            "Epoch 15: val_accuracy did not improve from 0.99500\n",
            "38/38 [==============================] - 14s 355ms/step - loss: 0.0892 - accuracy: 0.9950 - val_loss: 0.0947 - val_accuracy: 0.9900\n",
            "Epoch 16/50\n",
            "38/38 [==============================] - ETA: 0s - loss: 0.0883 - accuracy: 0.9962\n",
            "Epoch 16: val_accuracy did not improve from 0.99500\n",
            "38/38 [==============================] - 15s 385ms/step - loss: 0.0883 - accuracy: 0.9962 - val_loss: 0.0812 - val_accuracy: 0.9950\n",
            "Epoch 17/50\n",
            "38/38 [==============================] - ETA: 0s - loss: 0.0776 - accuracy: 0.9950\n",
            "Epoch 17: val_accuracy improved from 0.99500 to 0.99833, saving model to weights-17-1.00.hdf5\n",
            "38/38 [==============================] - 14s 361ms/step - loss: 0.0776 - accuracy: 0.9950 - val_loss: 0.0752 - val_accuracy: 0.9983\n",
            "Epoch 18/50\n",
            "38/38 [==============================] - ETA: 0s - loss: 0.0752 - accuracy: 0.9946\n",
            "Epoch 18: val_accuracy did not improve from 0.99833\n",
            "38/38 [==============================] - 14s 357ms/step - loss: 0.0752 - accuracy: 0.9946 - val_loss: 0.0677 - val_accuracy: 0.9983\n",
            "Epoch 19/50\n",
            "38/38 [==============================] - ETA: 0s - loss: 0.0711 - accuracy: 0.9954\n",
            "Epoch 19: val_accuracy did not improve from 0.99833\n",
            "38/38 [==============================] - 14s 356ms/step - loss: 0.0711 - accuracy: 0.9954 - val_loss: 0.0669 - val_accuracy: 0.9967\n",
            "Epoch 20/50\n",
            "38/38 [==============================] - ETA: 0s - loss: 0.0672 - accuracy: 0.9946\n",
            "Epoch 20: val_accuracy did not improve from 0.99833\n",
            "38/38 [==============================] - 14s 380ms/step - loss: 0.0672 - accuracy: 0.9946 - val_loss: 0.0696 - val_accuracy: 0.9950\n",
            "Epoch 21/50\n",
            "38/38 [==============================] - ETA: 0s - loss: 0.0604 - accuracy: 0.9967\n",
            "Epoch 21: val_accuracy did not improve from 0.99833\n",
            "38/38 [==============================] - 14s 360ms/step - loss: 0.0604 - accuracy: 0.9967 - val_loss: 0.0673 - val_accuracy: 0.9933\n",
            "Epoch 22/50\n",
            "38/38 [==============================] - ETA: 0s - loss: 0.0599 - accuracy: 0.9950\n",
            "Epoch 22: val_accuracy did not improve from 0.99833\n",
            "38/38 [==============================] - 13s 359ms/step - loss: 0.0599 - accuracy: 0.9950 - val_loss: 0.0570 - val_accuracy: 0.9950\n",
            "Epoch 23/50\n",
            "38/38 [==============================] - ETA: 0s - loss: 0.0565 - accuracy: 0.9967\n",
            "Epoch 23: val_accuracy did not improve from 0.99833\n",
            "38/38 [==============================] - 13s 355ms/step - loss: 0.0565 - accuracy: 0.9967 - val_loss: 0.0640 - val_accuracy: 0.9983\n",
            "Epoch 24/50\n",
            "38/38 [==============================] - ETA: 0s - loss: 0.0557 - accuracy: 0.9950\n",
            "Epoch 24: val_accuracy improved from 0.99833 to 1.00000, saving model to weights-24-1.00.hdf5\n",
            "38/38 [==============================] - 14s 381ms/step - loss: 0.0557 - accuracy: 0.9950 - val_loss: 0.0489 - val_accuracy: 1.0000\n",
            "Epoch 25/50\n",
            "38/38 [==============================] - ETA: 0s - loss: 0.0523 - accuracy: 0.9958\n",
            "Epoch 25: val_accuracy did not improve from 1.00000\n",
            "38/38 [==============================] - 14s 361ms/step - loss: 0.0523 - accuracy: 0.9958 - val_loss: 0.0516 - val_accuracy: 0.9950\n",
            "Epoch 26/50\n",
            "38/38 [==============================] - ETA: 0s - loss: 0.0516 - accuracy: 0.9967\n",
            "Epoch 26: val_accuracy did not improve from 1.00000\n",
            "38/38 [==============================] - 14s 357ms/step - loss: 0.0516 - accuracy: 0.9967 - val_loss: 0.0549 - val_accuracy: 0.9983\n",
            "Epoch 27/50\n",
            "38/38 [==============================] - ETA: 0s - loss: 0.0506 - accuracy: 0.9975\n",
            "Epoch 27: val_accuracy did not improve from 1.00000\n",
            "38/38 [==============================] - 13s 351ms/step - loss: 0.0506 - accuracy: 0.9975 - val_loss: 0.0470 - val_accuracy: 0.9967\n",
            "Epoch 28/50\n",
            "38/38 [==============================] - ETA: 0s - loss: 0.0468 - accuracy: 0.9975\n",
            "Epoch 28: val_accuracy did not improve from 1.00000\n",
            "38/38 [==============================] - 14s 369ms/step - loss: 0.0468 - accuracy: 0.9975 - val_loss: 0.0485 - val_accuracy: 0.9967\n",
            "Epoch 29/50\n",
            "38/38 [==============================] - ETA: 0s - loss: 0.0445 - accuracy: 0.9971\n",
            "Epoch 29: val_accuracy did not improve from 1.00000\n",
            "38/38 [==============================] - 14s 357ms/step - loss: 0.0445 - accuracy: 0.9971 - val_loss: 0.0486 - val_accuracy: 0.9967\n",
            "Epoch 30/50\n",
            "38/38 [==============================] - ETA: 0s - loss: 0.0443 - accuracy: 0.9983\n",
            "Epoch 30: val_accuracy did not improve from 1.00000\n",
            "38/38 [==============================] - 15s 384ms/step - loss: 0.0443 - accuracy: 0.9983 - val_loss: 0.0451 - val_accuracy: 0.9983\n",
            "Epoch 31/50\n",
            "38/38 [==============================] - ETA: 0s - loss: 0.0436 - accuracy: 0.9979\n",
            "Epoch 31: val_accuracy did not improve from 1.00000\n",
            "38/38 [==============================] - 14s 358ms/step - loss: 0.0436 - accuracy: 0.9979 - val_loss: 0.0440 - val_accuracy: 0.9983\n",
            "Epoch 32/50\n",
            "38/38 [==============================] - ETA: 0s - loss: 0.0432 - accuracy: 0.9954\n",
            "Epoch 32: val_accuracy did not improve from 1.00000\n",
            "38/38 [==============================] - 15s 393ms/step - loss: 0.0432 - accuracy: 0.9954 - val_loss: 0.0378 - val_accuracy: 0.9983\n",
            "Epoch 33/50\n",
            "38/38 [==============================] - ETA: 0s - loss: 0.0426 - accuracy: 0.9967\n",
            "Epoch 33: val_accuracy did not improve from 1.00000\n",
            "38/38 [==============================] - 13s 353ms/step - loss: 0.0426 - accuracy: 0.9967 - val_loss: 0.0432 - val_accuracy: 1.0000\n",
            "Epoch 34/50\n",
            "38/38 [==============================] - ETA: 0s - loss: 0.0417 - accuracy: 0.9967\n",
            "Epoch 34: val_accuracy did not improve from 1.00000\n",
            "38/38 [==============================] - 13s 354ms/step - loss: 0.0417 - accuracy: 0.9967 - val_loss: 0.0383 - val_accuracy: 1.0000\n",
            "Epoch 35/50\n",
            "38/38 [==============================] - ETA: 0s - loss: 0.0374 - accuracy: 0.9979\n",
            "Epoch 35: val_accuracy did not improve from 1.00000\n",
            "38/38 [==============================] - 14s 357ms/step - loss: 0.0374 - accuracy: 0.9979 - val_loss: 0.0329 - val_accuracy: 1.0000\n",
            "Epoch 36/50\n",
            "38/38 [==============================] - ETA: 0s - loss: 0.0349 - accuracy: 0.9983\n",
            "Epoch 36: val_accuracy did not improve from 1.00000\n",
            "38/38 [==============================] - 15s 391ms/step - loss: 0.0349 - accuracy: 0.9983 - val_loss: 0.0355 - val_accuracy: 0.9967\n",
            "Epoch 37/50\n",
            "38/38 [==============================] - ETA: 0s - loss: 0.0354 - accuracy: 0.9975\n",
            "Epoch 37: val_accuracy did not improve from 1.00000\n",
            "38/38 [==============================] - 13s 355ms/step - loss: 0.0354 - accuracy: 0.9975 - val_loss: 0.0367 - val_accuracy: 0.9983\n",
            "Epoch 38/50\n",
            "38/38 [==============================] - ETA: 0s - loss: 0.0324 - accuracy: 0.9987\n",
            "Epoch 38: val_accuracy did not improve from 1.00000\n",
            "38/38 [==============================] - 13s 353ms/step - loss: 0.0324 - accuracy: 0.9987 - val_loss: 0.0314 - val_accuracy: 1.0000\n",
            "Epoch 39/50\n",
            "38/38 [==============================] - ETA: 0s - loss: 0.0333 - accuracy: 0.9987\n",
            "Epoch 39: val_accuracy did not improve from 1.00000\n",
            "38/38 [==============================] - 14s 360ms/step - loss: 0.0333 - accuracy: 0.9987 - val_loss: 0.0336 - val_accuracy: 0.9983\n",
            "Epoch 40/50\n",
            "38/38 [==============================] - ETA: 0s - loss: 0.0320 - accuracy: 0.9992\n",
            "Epoch 40: val_accuracy did not improve from 1.00000\n",
            "38/38 [==============================] - 15s 387ms/step - loss: 0.0320 - accuracy: 0.9992 - val_loss: 0.0291 - val_accuracy: 0.9983\n",
            "Epoch 41/50\n",
            "38/38 [==============================] - ETA: 0s - loss: 0.0345 - accuracy: 0.9979\n",
            "Epoch 41: val_accuracy did not improve from 1.00000\n",
            "38/38 [==============================] - 14s 360ms/step - loss: 0.0345 - accuracy: 0.9979 - val_loss: 0.0340 - val_accuracy: 1.0000\n",
            "Epoch 42/50\n",
            "38/38 [==============================] - ETA: 0s - loss: 0.0302 - accuracy: 0.9987\n",
            "Epoch 42: val_accuracy did not improve from 1.00000\n",
            "38/38 [==============================] - 13s 355ms/step - loss: 0.0302 - accuracy: 0.9987 - val_loss: 0.0321 - val_accuracy: 0.9983\n",
            "Epoch 43/50\n",
            "38/38 [==============================] - ETA: 0s - loss: 0.0303 - accuracy: 0.9983\n",
            "Epoch 43: val_accuracy did not improve from 1.00000\n",
            "38/38 [==============================] - 13s 353ms/step - loss: 0.0303 - accuracy: 0.9983 - val_loss: 0.0313 - val_accuracy: 1.0000\n",
            "Epoch 44/50\n",
            "38/38 [==============================] - ETA: 0s - loss: 0.0301 - accuracy: 0.9975\n",
            "Epoch 44: val_accuracy did not improve from 1.00000\n",
            "38/38 [==============================] - 16s 433ms/step - loss: 0.0301 - accuracy: 0.9975 - val_loss: 0.0296 - val_accuracy: 0.9983\n",
            "Epoch 45/50\n",
            "38/38 [==============================] - ETA: 0s - loss: 0.0289 - accuracy: 0.9979\n",
            "Epoch 45: val_accuracy did not improve from 1.00000\n",
            "38/38 [==============================] - 13s 356ms/step - loss: 0.0289 - accuracy: 0.9979 - val_loss: 0.0270 - val_accuracy: 0.9967\n",
            "Epoch 46/50\n",
            "38/38 [==============================] - ETA: 0s - loss: 0.0242 - accuracy: 1.0000\n",
            "Epoch 46: val_accuracy did not improve from 1.00000\n",
            "38/38 [==============================] - 15s 387ms/step - loss: 0.0242 - accuracy: 1.0000 - val_loss: 0.0289 - val_accuracy: 0.9983\n",
            "Epoch 47/50\n",
            "38/38 [==============================] - ETA: 0s - loss: 0.0294 - accuracy: 0.9979\n",
            "Epoch 47: val_accuracy did not improve from 1.00000\n",
            "38/38 [==============================] - 14s 357ms/step - loss: 0.0294 - accuracy: 0.9979 - val_loss: 0.0268 - val_accuracy: 0.9983\n",
            "Epoch 48/50\n",
            "38/38 [==============================] - ETA: 0s - loss: 0.0269 - accuracy: 0.9983\n",
            "Epoch 48: val_accuracy did not improve from 1.00000\n",
            "38/38 [==============================] - 15s 397ms/step - loss: 0.0269 - accuracy: 0.9983 - val_loss: 0.0276 - val_accuracy: 0.9983\n",
            "Epoch 49/50\n",
            "38/38 [==============================] - ETA: 0s - loss: 0.0260 - accuracy: 0.9983\n",
            "Epoch 49: val_accuracy did not improve from 1.00000\n",
            "38/38 [==============================] - 13s 352ms/step - loss: 0.0260 - accuracy: 0.9983 - val_loss: 0.0247 - val_accuracy: 1.0000\n",
            "Epoch 50/50\n",
            "38/38 [==============================] - ETA: 0s - loss: 0.0267 - accuracy: 0.9987\n",
            "Epoch 50: val_accuracy did not improve from 1.00000\n",
            "38/38 [==============================] - 13s 353ms/step - loss: 0.0267 - accuracy: 0.9987 - val_loss: 0.0235 - val_accuracy: 1.0000\n"
          ]
        }
      ]
    },
    {
      "cell_type": "code",
      "source": [
        "def plot_model_history(model_history, acc='accuracy', val_acc='val_accuracy'):\n",
        "    fig, axs = plt.subplots(1, 2, figsize=(15, 5))\n",
        "    axs[0].plot(range(1, len(model_history.history[acc]) + 1), model_history.history[acc])\n",
        "    axs[0].plot(range(1, len(model_history.history[val_acc]) + 1), model_history.history[val_acc])\n",
        "    axs[0].set_title('Model Accuracy')\n",
        "    axs[0].set_ylabel('Accuracy')\n",
        "    axs[0].set_xlabel('Epoch')\n",
        "    axs[0].set_xticks(np.arange(1, len(model_history.history[acc]) + 1), len(model_history.history[acc]) / 10)\n",
        "    axs[0].legend(['train', 'val'], loc='best')\n",
        "    axs[1].plot(range(1, len(model_history.history['loss']) + 1), model_history.history['loss'])\n",
        "    axs[1].plot(range(1, len(model_history.history['val_loss']) + 1), model_history.history['val_loss'])\n",
        "    axs[1].set_title('Model Loss')\n",
        "    axs[1].set_ylabel('Loss')\n",
        "    axs[1].set_xlabel('Epoch')\n",
        "    axs[1].set_xticks(np.arange(1, len(model_history.history['loss']) + 1), len(model_history.history['loss']) / 10)\n",
        "    axs[1].legend(['train', 'val'], loc='best')\n",
        "    #plt.show()\n",
        "    plt.savefig('roc.png')\n",
        "plot_model_history(vgghist)"
      ],
      "metadata": {
        "id": "Gb1zgnvWo-3v",
        "colab": {
          "base_uri": "https://localhost:8080/",
          "height": 428
        },
        "outputId": "faab0546-03f6-4353-d397-ce59e0b4932d"
      },
      "execution_count": null,
      "outputs": [
        {
          "output_type": "stream",
          "name": "stderr",
          "text": [
            "/usr/local/lib/python3.7/dist-packages/ipykernel_launcher.py:8: MatplotlibDeprecationWarning: Passing the minor parameter of set_xticks() positionally is deprecated since Matplotlib 3.2; the parameter will become keyword-only two minor releases later.\n",
            "  \n",
            "/usr/local/lib/python3.7/dist-packages/ipykernel_launcher.py:15: MatplotlibDeprecationWarning: Passing the minor parameter of set_xticks() positionally is deprecated since Matplotlib 3.2; the parameter will become keyword-only two minor releases later.\n",
            "  from ipykernel import kernelapp as app\n"
          ]
        },
        {
          "output_type": "display_data",
          "data": {
            "text/plain": [
              "<Figure size 1080x360 with 2 Axes>"
            ],
            "image/png": "[encoded data removed]"
          },
          "metadata": {
            "needs_background": "light"
          }
        }
      ]
    },
    {
      "cell_type": "code",
      "source": [],
      "metadata": {
        "id": "gqnBml2fohGL"
      },
      "execution_count": null,
      "outputs": []
    }
  ]
}